{
 "cells": [
  {
   "cell_type": "code",
   "execution_count": 12,
   "metadata": {},
   "outputs": [],
   "source": [
    "import pandas as pd\n",
    "import matplotlib.pyplot as plt\n",
    "import numpy as np\n",
    "import json\n",
    "import re\n",
    "\n",
    "PATH = \"Datasets/\""
   ]
  },
  {
   "cell_type": "code",
   "execution_count": 2,
   "metadata": {},
   "outputs": [],
   "source": [
    "#food_emissions = pd.read_csv(PATH+\"Food_Product_Emissions.csv\")\n",
    "#food_emissions.drop(['Unit of GHG Emissions'],axis=1,inplace=True)"
   ]
  },
  {
   "cell_type": "code",
   "execution_count": 3,
   "metadata": {},
   "outputs": [],
   "source": [
    "meat_prod = pd.read_csv(PATH+\"meat_prod.csv\",sep=\";\")"
   ]
  },
  {
   "cell_type": "code",
   "execution_count": 4,
   "metadata": {},
   "outputs": [
    {
     "data": {
      "text/plain": [
       "Index(['Entity', 'Code', 'Year', 'Cattle | Produced', 'Goat | Produced',\n",
       "       'Chicken | Produced', 'Turkey | Produced', 'Pig | Produced',\n",
       "       'Lamb and mutton | Produced', 'Meat, Total | tonnes', 'Game | tonnes',\n",
       "       'Duck | tonnes', 'Horse | tonnes', 'Camel | tonnes',\n",
       "       'Goose and guinea fowl | tonnes', 'Sheep and goat | tonnes',\n",
       "       'Beef and buffalo | tonnes', 'Pig | tonnes', 'Poultry | tonnes'],\n",
       "      dtype='object')"
      ]
     },
     "execution_count": 4,
     "metadata": {},
     "output_type": "execute_result"
    }
   ],
   "source": [
    "meat_prod.columns"
   ]
  },
  {
   "cell_type": "code",
   "execution_count": 45,
   "metadata": {},
   "outputs": [
    {
     "data": {
      "text/plain": [
       "2019"
      ]
     },
     "execution_count": 45,
     "metadata": {},
     "output_type": "execute_result"
    }
   ],
   "source": [
    "max(np.unique(meat_prod.Year))"
   ]
  },
  {
   "cell_type": "code",
   "execution_count": 79,
   "metadata": {},
   "outputs": [],
   "source": [
    "def getLastYear(df,entities,nb_year=0):\n",
    "   new_df = pd.DataFrame()\n",
    "   for e in entities:\n",
    "      #remove bad country\n",
    "      if len(e.split(\"(\")) < 2:\n",
    "         _lastYear = df[df['Entity'] == e].iloc[-1]\n",
    "         if _lastYear['Year'] == max(np.unique(meat_prod.Year)):\n",
    "            if nb_year:\n",
    "               _lastYear = df[df['Entity'] == e].iloc[-nb_year:]\n",
    "               if(min(_lastYear.Year) == min(meat_prod[meat_prod['Entity'] == \"France\"].iloc[-10:].Year) and len(_lastYear) == nb_year):\n",
    "                  new_df = new_df.append(_lastYear)\n",
    "            else:\n",
    "               new_df = new_df.append(_lastYear)\n",
    "   return new_df\n",
    "   \n"
   ]
  },
  {
   "cell_type": "code",
   "execution_count": 80,
   "metadata": {},
   "outputs": [],
   "source": [
    "meat_last_year = getLastYear(meat_prod,np.unique(meat_prod['Entity']))\n",
    "meat_last_year.drop(['Code'],axis=1,inplace=True)\n",
    "meat_last_year.to_csv(\"meat_last_year.csv\",sep=\";\")"
   ]
  },
  {
   "cell_type": "code",
   "execution_count": 81,
   "metadata": {},
   "outputs": [],
   "source": [
    "meat_10_last_years = getLastYear(meat_prod,np.unique(meat_prod['Entity']),10)\n",
    "meat_10_last_years.drop(['Code'],axis=1,inplace=True)\n",
    "meat_10_last_years.to_csv(\"meat_data_10_years.csv\",sep=\";\")\n"
   ]
  },
  {
   "cell_type": "code",
   "execution_count": 72,
   "metadata": {},
   "outputs": [],
   "source": [
    "#df.set_index('Entity').to_json(\"meat_data.json\")"
   ]
  },
  {
   "cell_type": "code",
   "execution_count": 11,
   "metadata": {},
   "outputs": [],
   "source": []
  }
 ],
 "metadata": {
  "kernelspec": {
   "display_name": "Python 3",
   "language": "python",
   "name": "python3"
  },
  "language_info": {
   "codemirror_mode": {
    "name": "ipython",
    "version": 3
   },
   "file_extension": ".py",
   "mimetype": "text/x-python",
   "name": "python",
   "nbconvert_exporter": "python",
   "pygments_lexer": "ipython3",
   "version": "3.9.5"
  },
  "orig_nbformat": 4,
  "vscode": {
   "interpreter": {
    "hash": "67971f46f0fa2eec564b13cddb8a1a061a836eb7a6955f65d67366ebef87f4ca"
   }
  }
 },
 "nbformat": 4,
 "nbformat_minor": 2
}
