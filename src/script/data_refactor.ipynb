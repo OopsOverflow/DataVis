{
 "cells": [
  {
   "cell_type": "code",
   "execution_count": 1,
   "metadata": {},
   "outputs": [],
   "source": [
    "import pandas as pd\n",
    "import matplotlib.pyplot as plt\n",
    "import numpy as np\n",
    "import json\n",
    "\n",
    "PATH = \"Datasets/\""
   ]
  },
  {
   "cell_type": "code",
   "execution_count": 2,
   "metadata": {},
   "outputs": [],
   "source": [
    "#food_emissions = pd.read_csv(PATH+\"Food_Product_Emissions.csv\")\n",
    "#food_emissions.drop(['Unit of GHG Emissions'],axis=1,inplace=True)"
   ]
  },
  {
   "cell_type": "code",
   "execution_count": 3,
   "metadata": {},
   "outputs": [],
   "source": [
    "meat_prod = pd.read_csv(PATH+\"meat_prod.csv\",sep=\";\")"
   ]
  },
  {
   "cell_type": "code",
   "execution_count": 4,
   "metadata": {},
   "outputs": [
    {
     "data": {
      "text/plain": [
       "Index(['Entity', 'Code', 'Year', 'Cattle | Produced', 'Goat | Produced',\n",
       "       'Chicken | Produced', 'Turkey | Produced', 'Pig | Produced',\n",
       "       'Lamb and mutton | Produced', 'Meat, Total | tonnes', 'Game | tonnes',\n",
       "       'Duck | tonnes', 'Horse | tonnes', 'Camel | tonnes',\n",
       "       'Goose and guinea fowl | tonnes', 'Sheep and goat | tonnes',\n",
       "       'Beef and buffalo | tonnes', 'Pig | tonnes', 'Poultry | tonnes'],\n",
       "      dtype='object')"
      ]
     },
     "execution_count": 4,
     "metadata": {},
     "output_type": "execute_result"
    }
   ],
   "source": [
    "meat_prod.columns"
   ]
  },
  {
   "cell_type": "code",
   "execution_count": 5,
   "metadata": {},
   "outputs": [],
   "source": [
    "def getLastYear(df,entities):\n",
    "   new_df = pd.DataFrame()\n",
    "   for e in entities:\n",
    "      _tmp = df[df['Entity'] == e].iloc[-1]\n",
    "      new_df = new_df.append(_tmp)\n",
    "   return new_df"
   ]
  },
  {
   "cell_type": "code",
   "execution_count": 6,
   "metadata": {},
   "outputs": [],
   "source": [
    "df = getLastYear(meat_prod,np.unique(meat_prod['Entity']))"
   ]
  },
  {
   "cell_type": "code",
   "execution_count": 7,
   "metadata": {},
   "outputs": [],
   "source": [
    "meat_prod_tonnes = meat_prod[['Entity','Year','Meat, Total | tonnes', 'Game | tonnes',\n",
    "       'Duck | tonnes', 'Horse | tonnes', 'Camel | tonnes',\n",
    "       'Goose and guinea fowl | tonnes', 'Sheep and goat | tonnes',\n",
    "       'Beef and buffalo | tonnes', 'Pig | tonnes', 'Poultry | tonnes']]\n",
    "df_tonnes = getLastYear(meat_prod_tonnes,np.unique(meat_prod_tonnes['Entity']))\n",
    "#df_tonnes.drop([''])"
   ]
  },
  {
   "cell_type": "code",
   "execution_count": 8,
   "metadata": {},
   "outputs": [
    {
     "data": {
      "text/plain": [
       "<AxesSubplot:>"
      ]
     },
     "execution_count": 8,
     "metadata": {},
     "output_type": "execute_result"
    },
    {
     "data": {
      "image/png": "[encoded data removed]",
      "text/plain": [
       "<Figure size 432x288 with 1 Axes>"
      ]
     },
     "metadata": {
      "needs_background": "light"
     },
     "output_type": "display_data"
    }
   ],
   "source": [
    "df_tonnes.sum(axis=0).drop(['Entity','Year','Meat, Total | tonnes']).plot.barh()"
   ]
  },
  {
   "cell_type": "code",
   "execution_count": 9,
   "metadata": {},
   "outputs": [],
   "source": [
    "df_tonnes.drop(['Year'],axis=1,inplace=True)"
   ]
  },
  {
   "cell_type": "code",
   "execution_count": 10,
   "metadata": {},
   "outputs": [],
   "source": [
    "df.set_index('Entity').to_json(\"meat_data.json\")"
   ]
  },
  {
   "cell_type": "code",
   "execution_count": 11,
   "metadata": {},
   "outputs": [],
   "source": [
    "df.to_csv(\"meat_data.csv\",sep=\";\")"
   ]
  }
 ],
 "metadata": {
  "kernelspec": {
   "display_name": "Python 3",
   "language": "python",
   "name": "python3"
  },
  "language_info": {
   "codemirror_mode": {
    "name": "ipython",
    "version": 3
   },
   "file_extension": ".py",
   "mimetype": "text/x-python",
   "name": "python",
   "nbconvert_exporter": "python",
   "pygments_lexer": "ipython3",
   "version": "3.9.5"
  },
  "orig_nbformat": 4,
  "vscode": {
   "interpreter": {
    "hash": "67971f46f0fa2eec564b13cddb8a1a061a836eb7a6955f65d67366ebef87f4ca"
   }
  }
 },
 "nbformat": 4,
 "nbformat_minor": 2
}
